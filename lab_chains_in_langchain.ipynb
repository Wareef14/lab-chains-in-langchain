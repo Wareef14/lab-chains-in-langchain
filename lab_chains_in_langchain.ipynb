{
  "cells": [
    {
      "cell_type": "markdown",
      "id": "52824b89-532a-4e54-87e9-1410813cd39e",
      "metadata": {
        "id": "52824b89-532a-4e54-87e9-1410813cd39e"
      },
      "source": [
        "# Lab | Chains in LangChain\n",
        "\n",
        "## Outline\n",
        "\n",
        "* LLMChain\n",
        "* Sequential Chains\n",
        "  * SimpleSequentialChain\n",
        "  * SequentialChain\n",
        "* Router Chain"
      ]
    },
    {
      "cell_type": "code",
      "source": [
        "!pip install -r \"/content/requirements (2).txt\"\n",
        "!pip install langchain_community"
      ],
      "metadata": {
        "id": "F4I05wX8gqpd"
      },
      "id": "F4I05wX8gqpd",
      "execution_count": null,
      "outputs": []
    },
    {
      "cell_type": "code",
      "source": [
        "import pandas as pd\n",
        "import openai\n",
        "import os\n",
        "import warnings\n",
        "\n",
        "from dotenv import load_dotenv, find_dotenv\n",
        "warnings.filterwarnings('ignore')"
      ],
      "metadata": {
        "id": "AMEfFecOtlaf"
      },
      "id": "AMEfFecOtlaf",
      "execution_count": 2,
      "outputs": []
    },
    {
      "cell_type": "code",
      "source": [
        "load_dotenv('/content/env')\n",
        "\n",
        "OPENAI_API_KEY = os.getenv('OPENAI_API_KEY')\n",
        "HUGGINGFACEHUB_API_TOKEN = os.getenv('HUGGINGFACEHUB_API_TOKEN')\n",
        "\n",
        "print(\"✅ OPENAI Key loaded:\", OPENAI_API_KEY is not None)\n",
        "print(\"✅ HuggingFace Key loaded:\", HUGGINGFACEHUB_API_TOKEN is not None)"
      ],
      "metadata": {
        "colab": {
          "base_uri": "https://localhost:8080/"
        },
        "id": "PqxbxRIctqyF",
        "outputId": "ffefb7fa-b918-41a1-cb23-3e9876d2079c"
      },
      "id": "PqxbxRIctqyF",
      "execution_count": 9,
      "outputs": [
        {
          "output_type": "stream",
          "name": "stdout",
          "text": [
            "✅ OPENAI Key loaded: True\n",
            "✅ HuggingFace Key loaded: True\n"
          ]
        }
      ]
    },
    {
      "cell_type": "code",
      "execution_count": 10,
      "id": "974acf8e-8f88-42de-88f8-40a82cb58e8b",
      "metadata": {
        "tags": [],
        "id": "974acf8e-8f88-42de-88f8-40a82cb58e8b"
      },
      "outputs": [],
      "source": [
        "import pandas as pd\n",
        "df = pd.read_csv('/content/Chains_in_Lang_Chain.csv')"
      ]
    },
    {
      "cell_type": "code",
      "execution_count": 11,
      "id": "b7a09c35",
      "metadata": {
        "tags": [],
        "colab": {
          "base_uri": "https://localhost:8080/",
          "height": 206
        },
        "id": "b7a09c35",
        "outputId": "de51bae9-0740-4709-dd6c-c899cb787ef6"
      },
      "outputs": [
        {
          "output_type": "execute_result",
          "data": {
            "text/plain": [
              "                   Product                                             Review\n",
              "0     Queen Size Sheet Set  I ordered a king size set. My only criticism w...\n",
              "1   Waterproof Phone Pouch  I loved the waterproof sac, although the openi...\n",
              "2      Luxury Air Mattress  This mattress had a small hole in the top of i...\n",
              "3           Pillows Insert  This is the best throw pillow fillers on Amazo...\n",
              "4  Milk Frother Handheld\\n   I loved this product. But they only seem to l..."
            ],
            "text/html": [
              "\n",
              "  <div id=\"df-4469a8bc-3d56-4b6f-84af-42e7ccac0f2f\" class=\"colab-df-container\">\n",
              "    <div>\n",
              "<style scoped>\n",
              "    .dataframe tbody tr th:only-of-type {\n",
              "        vertical-align: middle;\n",
              "    }\n",
              "\n",
              "    .dataframe tbody tr th {\n",
              "        vertical-align: top;\n",
              "    }\n",
              "\n",
              "    .dataframe thead th {\n",
              "        text-align: right;\n",
              "    }\n",
              "</style>\n",
              "<table border=\"1\" class=\"dataframe\">\n",
              "  <thead>\n",
              "    <tr style=\"text-align: right;\">\n",
              "      <th></th>\n",
              "      <th>Product</th>\n",
              "      <th>Review</th>\n",
              "    </tr>\n",
              "  </thead>\n",
              "  <tbody>\n",
              "    <tr>\n",
              "      <th>0</th>\n",
              "      <td>Queen Size Sheet Set</td>\n",
              "      <td>I ordered a king size set. My only criticism w...</td>\n",
              "    </tr>\n",
              "    <tr>\n",
              "      <th>1</th>\n",
              "      <td>Waterproof Phone Pouch</td>\n",
              "      <td>I loved the waterproof sac, although the openi...</td>\n",
              "    </tr>\n",
              "    <tr>\n",
              "      <th>2</th>\n",
              "      <td>Luxury Air Mattress</td>\n",
              "      <td>This mattress had a small hole in the top of i...</td>\n",
              "    </tr>\n",
              "    <tr>\n",
              "      <th>3</th>\n",
              "      <td>Pillows Insert</td>\n",
              "      <td>This is the best throw pillow fillers on Amazo...</td>\n",
              "    </tr>\n",
              "    <tr>\n",
              "      <th>4</th>\n",
              "      <td>Milk Frother Handheld\\n</td>\n",
              "      <td>I loved this product. But they only seem to l...</td>\n",
              "    </tr>\n",
              "  </tbody>\n",
              "</table>\n",
              "</div>\n",
              "    <div class=\"colab-df-buttons\">\n",
              "\n",
              "  <div class=\"colab-df-container\">\n",
              "    <button class=\"colab-df-convert\" onclick=\"convertToInteractive('df-4469a8bc-3d56-4b6f-84af-42e7ccac0f2f')\"\n",
              "            title=\"Convert this dataframe to an interactive table.\"\n",
              "            style=\"display:none;\">\n",
              "\n",
              "  <svg xmlns=\"http://www.w3.org/2000/svg\" height=\"24px\" viewBox=\"0 -960 960 960\">\n",
              "    <path d=\"M120-120v-720h720v720H120Zm60-500h600v-160H180v160Zm220 220h160v-160H400v160Zm0 220h160v-160H400v160ZM180-400h160v-160H180v160Zm440 0h160v-160H620v160ZM180-180h160v-160H180v160Zm440 0h160v-160H620v160Z\"/>\n",
              "  </svg>\n",
              "    </button>\n",
              "\n",
              "  <style>\n",
              "    .colab-df-container {\n",
              "      display:flex;\n",
              "      gap: 12px;\n",
              "    }\n",
              "\n",
              "    .colab-df-convert {\n",
              "      background-color: #E8F0FE;\n",
              "      border: none;\n",
              "      border-radius: 50%;\n",
              "      cursor: pointer;\n",
              "      display: none;\n",
              "      fill: #1967D2;\n",
              "      height: 32px;\n",
              "      padding: 0 0 0 0;\n",
              "      width: 32px;\n",
              "    }\n",
              "\n",
              "    .colab-df-convert:hover {\n",
              "      background-color: #E2EBFA;\n",
              "      box-shadow: 0px 1px 2px rgba(60, 64, 67, 0.3), 0px 1px 3px 1px rgba(60, 64, 67, 0.15);\n",
              "      fill: #174EA6;\n",
              "    }\n",
              "\n",
              "    .colab-df-buttons div {\n",
              "      margin-bottom: 4px;\n",
              "    }\n",
              "\n",
              "    [theme=dark] .colab-df-convert {\n",
              "      background-color: #3B4455;\n",
              "      fill: #D2E3FC;\n",
              "    }\n",
              "\n",
              "    [theme=dark] .colab-df-convert:hover {\n",
              "      background-color: #434B5C;\n",
              "      box-shadow: 0px 1px 3px 1px rgba(0, 0, 0, 0.15);\n",
              "      filter: drop-shadow(0px 1px 2px rgba(0, 0, 0, 0.3));\n",
              "      fill: #FFFFFF;\n",
              "    }\n",
              "  </style>\n",
              "\n",
              "    <script>\n",
              "      const buttonEl =\n",
              "        document.querySelector('#df-4469a8bc-3d56-4b6f-84af-42e7ccac0f2f button.colab-df-convert');\n",
              "      buttonEl.style.display =\n",
              "        google.colab.kernel.accessAllowed ? 'block' : 'none';\n",
              "\n",
              "      async function convertToInteractive(key) {\n",
              "        const element = document.querySelector('#df-4469a8bc-3d56-4b6f-84af-42e7ccac0f2f');\n",
              "        const dataTable =\n",
              "          await google.colab.kernel.invokeFunction('convertToInteractive',\n",
              "                                                    [key], {});\n",
              "        if (!dataTable) return;\n",
              "\n",
              "        const docLinkHtml = 'Like what you see? Visit the ' +\n",
              "          '<a target=\"_blank\" href=https://colab.research.google.com/notebooks/data_table.ipynb>data table notebook</a>'\n",
              "          + ' to learn more about interactive tables.';\n",
              "        element.innerHTML = '';\n",
              "        dataTable['output_type'] = 'display_data';\n",
              "        await google.colab.output.renderOutput(dataTable, element);\n",
              "        const docLink = document.createElement('div');\n",
              "        docLink.innerHTML = docLinkHtml;\n",
              "        element.appendChild(docLink);\n",
              "      }\n",
              "    </script>\n",
              "  </div>\n",
              "\n",
              "\n",
              "<div id=\"df-5ea3b32f-81d1-4d16-b32d-43edab5af752\">\n",
              "  <button class=\"colab-df-quickchart\" onclick=\"quickchart('df-5ea3b32f-81d1-4d16-b32d-43edab5af752')\"\n",
              "            title=\"Suggest charts\"\n",
              "            style=\"display:none;\">\n",
              "\n",
              "<svg xmlns=\"http://www.w3.org/2000/svg\" height=\"24px\"viewBox=\"0 0 24 24\"\n",
              "     width=\"24px\">\n",
              "    <g>\n",
              "        <path d=\"M19 3H5c-1.1 0-2 .9-2 2v14c0 1.1.9 2 2 2h14c1.1 0 2-.9 2-2V5c0-1.1-.9-2-2-2zM9 17H7v-7h2v7zm4 0h-2V7h2v10zm4 0h-2v-4h2v4z\"/>\n",
              "    </g>\n",
              "</svg>\n",
              "  </button>\n",
              "\n",
              "<style>\n",
              "  .colab-df-quickchart {\n",
              "      --bg-color: #E8F0FE;\n",
              "      --fill-color: #1967D2;\n",
              "      --hover-bg-color: #E2EBFA;\n",
              "      --hover-fill-color: #174EA6;\n",
              "      --disabled-fill-color: #AAA;\n",
              "      --disabled-bg-color: #DDD;\n",
              "  }\n",
              "\n",
              "  [theme=dark] .colab-df-quickchart {\n",
              "      --bg-color: #3B4455;\n",
              "      --fill-color: #D2E3FC;\n",
              "      --hover-bg-color: #434B5C;\n",
              "      --hover-fill-color: #FFFFFF;\n",
              "      --disabled-bg-color: #3B4455;\n",
              "      --disabled-fill-color: #666;\n",
              "  }\n",
              "\n",
              "  .colab-df-quickchart {\n",
              "    background-color: var(--bg-color);\n",
              "    border: none;\n",
              "    border-radius: 50%;\n",
              "    cursor: pointer;\n",
              "    display: none;\n",
              "    fill: var(--fill-color);\n",
              "    height: 32px;\n",
              "    padding: 0;\n",
              "    width: 32px;\n",
              "  }\n",
              "\n",
              "  .colab-df-quickchart:hover {\n",
              "    background-color: var(--hover-bg-color);\n",
              "    box-shadow: 0 1px 2px rgba(60, 64, 67, 0.3), 0 1px 3px 1px rgba(60, 64, 67, 0.15);\n",
              "    fill: var(--button-hover-fill-color);\n",
              "  }\n",
              "\n",
              "  .colab-df-quickchart-complete:disabled,\n",
              "  .colab-df-quickchart-complete:disabled:hover {\n",
              "    background-color: var(--disabled-bg-color);\n",
              "    fill: var(--disabled-fill-color);\n",
              "    box-shadow: none;\n",
              "  }\n",
              "\n",
              "  .colab-df-spinner {\n",
              "    border: 2px solid var(--fill-color);\n",
              "    border-color: transparent;\n",
              "    border-bottom-color: var(--fill-color);\n",
              "    animation:\n",
              "      spin 1s steps(1) infinite;\n",
              "  }\n",
              "\n",
              "  @keyframes spin {\n",
              "    0% {\n",
              "      border-color: transparent;\n",
              "      border-bottom-color: var(--fill-color);\n",
              "      border-left-color: var(--fill-color);\n",
              "    }\n",
              "    20% {\n",
              "      border-color: transparent;\n",
              "      border-left-color: var(--fill-color);\n",
              "      border-top-color: var(--fill-color);\n",
              "    }\n",
              "    30% {\n",
              "      border-color: transparent;\n",
              "      border-left-color: var(--fill-color);\n",
              "      border-top-color: var(--fill-color);\n",
              "      border-right-color: var(--fill-color);\n",
              "    }\n",
              "    40% {\n",
              "      border-color: transparent;\n",
              "      border-right-color: var(--fill-color);\n",
              "      border-top-color: var(--fill-color);\n",
              "    }\n",
              "    60% {\n",
              "      border-color: transparent;\n",
              "      border-right-color: var(--fill-color);\n",
              "    }\n",
              "    80% {\n",
              "      border-color: transparent;\n",
              "      border-right-color: var(--fill-color);\n",
              "      border-bottom-color: var(--fill-color);\n",
              "    }\n",
              "    90% {\n",
              "      border-color: transparent;\n",
              "      border-bottom-color: var(--fill-color);\n",
              "    }\n",
              "  }\n",
              "</style>\n",
              "\n",
              "  <script>\n",
              "    async function quickchart(key) {\n",
              "      const quickchartButtonEl =\n",
              "        document.querySelector('#' + key + ' button');\n",
              "      quickchartButtonEl.disabled = true;  // To prevent multiple clicks.\n",
              "      quickchartButtonEl.classList.add('colab-df-spinner');\n",
              "      try {\n",
              "        const charts = await google.colab.kernel.invokeFunction(\n",
              "            'suggestCharts', [key], {});\n",
              "      } catch (error) {\n",
              "        console.error('Error during call to suggestCharts:', error);\n",
              "      }\n",
              "      quickchartButtonEl.classList.remove('colab-df-spinner');\n",
              "      quickchartButtonEl.classList.add('colab-df-quickchart-complete');\n",
              "    }\n",
              "    (() => {\n",
              "      let quickchartButtonEl =\n",
              "        document.querySelector('#df-5ea3b32f-81d1-4d16-b32d-43edab5af752 button');\n",
              "      quickchartButtonEl.style.display =\n",
              "        google.colab.kernel.accessAllowed ? 'block' : 'none';\n",
              "    })();\n",
              "  </script>\n",
              "</div>\n",
              "\n",
              "    </div>\n",
              "  </div>\n"
            ],
            "application/vnd.google.colaboratory.intrinsic+json": {
              "type": "dataframe",
              "variable_name": "df",
              "summary": "{\n  \"name\": \"df\",\n  \"rows\": 7,\n  \"fields\": [\n    {\n      \"column\": \"Product\",\n      \"properties\": {\n        \"dtype\": \"string\",\n        \"num_unique_values\": 7,\n        \"samples\": [\n          \"Queen Size Sheet Set\",\n          \"Waterproof Phone Pouch\",\n          \"L'Or Espresso Caf\\u00e9\\u00a0\\n\"\n        ],\n        \"semantic_type\": \"\",\n        \"description\": \"\"\n      }\n    },\n    {\n      \"column\": \"Review\",\n      \"properties\": {\n        \"dtype\": \"string\",\n        \"num_unique_values\": 7,\n        \"samples\": [\n          \"I ordered a king size set. My only criticism would be that I wish seller would offer the king size set with 4 pillowcases. I separately ordered a two pack of pillowcases so I could have a total of four. When I saw the two packages, it looked like the color did not exactly match. Customer service was excellent about sending me two more pillowcases so I would have four that matched. Excellent! For the cost of these sheets, I am satisfied with the characteristics and coolness of the sheets.\",\n          \"I loved the waterproof sac, although the opening was made of a hard plastic. I don\\u2019t know if that would break easily. But I couldn\\u2019t turn my phone on, once it was in the pouch.\",\n          \"Je trouve le go\\u00fbt m\\u00e9diocre. La mousse ne tient pas, c'est bizarre. J'ach\\u00e8te les m\\u00eames dans le commerce et le go\\u00fbt est bien meilleur...\\nVieux lot ou contrefa\\u00e7on !?\"\n        ],\n        \"semantic_type\": \"\",\n        \"description\": \"\"\n      }\n    }\n  ]\n}"
            }
          },
          "metadata": {},
          "execution_count": 11
        }
      ],
      "source": [
        "df.head()"
      ]
    },
    {
      "cell_type": "markdown",
      "id": "b940ce7c",
      "metadata": {
        "id": "b940ce7c"
      },
      "source": [
        "## LLMChain"
      ]
    },
    {
      "cell_type": "code",
      "execution_count": null,
      "id": "427e1119",
      "metadata": {
        "id": "427e1119"
      },
      "outputs": [],
      "source": [
        "!pip install langchain_community"
      ]
    },
    {
      "cell_type": "code",
      "execution_count": 13,
      "id": "e92dff22",
      "metadata": {
        "tags": [],
        "id": "e92dff22"
      },
      "outputs": [],
      "source": [
        "from langchain_openai import ChatOpenAI\n",
        "from langchain.prompts import ChatPromptTemplate\n",
        "from langchain.chains import LLMChain"
      ]
    },
    {
      "cell_type": "markdown",
      "source": [
        "##I chose temperature = 0.7 to strike a balance between accuracy and creativity in the model's responses.\n",
        "##This value allow us for slightly more diverse outputs while still maintaining reasonable consistency,\n",
        "# making it suitable for general conversation or mixed tasks."
      ],
      "metadata": {
        "id": "ACmG-9-ATqfZ"
      },
      "id": "ACmG-9-ATqfZ"
    },
    {
      "cell_type": "markdown",
      "source": [
        "| **Value**     | **Effect**                          | **Suitable For**                              |\n",
        "|---------------|-------------------------------------|------------------------------------------------|\n",
        "| `0.0 - 0.3`   | High accuracy, low diversity         | Analysis, reasoning, consistent answers        |\n",
        "| `0.5 - 0.7`   | Balanced accuracy and creativity     | General conversation, diverse tasks            |\n",
        "| `0.8 - 1.0+`  | High diversity, more randomness      | Creative writing, idea generation, brainstorming |\n"
      ],
      "metadata": {
        "id": "lTFdywNlSeG2"
      },
      "id": "lTFdywNlSeG2"
    },
    {
      "cell_type": "code",
      "execution_count": 16,
      "id": "943237a7",
      "metadata": {
        "id": "943237a7"
      },
      "outputs": [],
      "source": [
        "llm = ChatOpenAI(temperature=0.7)"
      ]
    },
    {
      "cell_type": "code",
      "execution_count": 17,
      "id": "cdcdb42d",
      "metadata": {
        "id": "cdcdb42d"
      },
      "outputs": [],
      "source": [
        "prompt = ChatPromptTemplate.from_template(\n",
        "    \"Write a detailed product description for the following product: {product}\"\n",
        ")"
      ]
    },
    {
      "cell_type": "code",
      "execution_count": 18,
      "id": "d7abc20b",
      "metadata": {
        "colab": {
          "base_uri": "https://localhost:8080/"
        },
        "id": "d7abc20b",
        "outputId": "ebc1290e-c30c-4344-afe7-57c862b08416"
      },
      "outputs": [
        {
          "output_type": "stream",
          "name": "stderr",
          "text": [
            "<ipython-input-18-726db833e4be>:1: LangChainDeprecationWarning: The class `LLMChain` was deprecated in LangChain 0.1.17 and will be removed in 1.0. Use :meth:`~RunnableSequence, e.g., `prompt | llm`` instead.\n",
            "  chain = LLMChain(llm=llm, prompt=prompt)\n"
          ]
        }
      ],
      "source": [
        "chain = LLMChain(llm=llm, prompt=prompt)"
      ]
    },
    {
      "cell_type": "code",
      "execution_count": 21,
      "id": "ad44d1fb",
      "metadata": {
        "colab": {
          "base_uri": "https://localhost:8080/"
        },
        "id": "ad44d1fb",
        "outputId": "fecd7e11-adc8-4e63-dc94-c076dabd34bd"
      },
      "outputs": [
        {
          "output_type": "stream",
          "name": "stdout",
          "text": [
            "Introducing the ultimate in audio technology - Wireless Noise-Cancelling Headphones. These headphones are designed to provide you with the most immersive listening experience possible, allowing you to escape into your favorite music or podcasts without any distractions.\n",
            "\n",
            "The wireless feature of these headphones allows you to move freely without being tethered to your device, giving you the freedom to roam while still enjoying crystal-clear sound quality. The Bluetooth connectivity ensures a seamless connection to your smartphone, tablet, or other Bluetooth-enabled device, so you can easily switch between devices without missing a beat.\n",
            "\n",
            "But what sets these headphones apart from the rest is their advanced noise-cancelling technology. With the simple push of a button, you can block out any unwanted background noise, whether you're on a crowded train, in a noisy office, or just trying to relax at home. The noise-cancelling feature works by analyzing the ambient sounds around you and creating an opposing sound wave to cancel them out, leaving you with nothing but pure, uninterrupted sound.\n",
            "\n",
            "Not only do these headphones provide exceptional sound quality and noise cancellation, but they are also incredibly comfortable to wear for extended periods of time. The plush ear cushions and adjustable headband ensure a perfect fit, while the lightweight design prevents any discomfort or fatigue, even during long listening sessions.\n",
            "\n",
            "Whether you're a music lover, frequent traveler, or just looking to block out the world for a little while, Wireless Noise-Cancelling Headphones are the perfect solution. Immerse yourself in your music like never before with these top-of-the-line headphones.\n"
          ]
        }
      ],
      "source": [
        "response = chain.invoke({\"product\": \"Wireless Noise-Cancelling Headphones\"})\n",
        "print(response[\"text\"])"
      ]
    },
    {
      "cell_type": "markdown",
      "id": "69b03469",
      "metadata": {
        "id": "69b03469"
      },
      "source": [
        "## SimpleSequentialChain"
      ]
    },
    {
      "cell_type": "markdown",
      "source": [
        "### 🔍 Comparison: Few-shot Prompt vs. SimpleSequentialChain\n",
        "\n",
        "| Feature                    | Few-shot Prompt                                              | SimpleSequentialChain                                              |\n",
        "|---------------------------|--------------------------------------------------------------|---------------------------------------------------------------------|\n",
        "| **Structure**             | One big prompt with examples                                 | Multiple steps (each with its own prompt)                          |\n",
        "| **Control per step**      | ❌ Not possible                                               | ✅ Yes, full control over each stage                               |\n",
        "| **Flexibility**           | Limited – all logic is in one block                          | High – you can change steps independently                         |\n",
        "| **Best for**              | Simple tasks, formatting style imitation                     | Multi-step reasoning or dynamic task flow                         |\n",
        "| **Interpretability**      | Lower – hard to trace how result came                        | High – you see every step’s contribution                          |\n",
        "| **Code complexity**       | Lower – quick to implement                                   | Higher – needs step-by-step setup                                 |\n",
        "| **Output consistency**    | Depends on prompt clarity and examples                       | More stable across variations                                     |\n",
        "\n"
      ],
      "metadata": {
        "id": "UwyJQt4ml9s4"
      },
      "id": "UwyJQt4ml9s4"
    },
    {
      "cell_type": "code",
      "execution_count": 22,
      "id": "febee243",
      "metadata": {
        "id": "febee243"
      },
      "outputs": [],
      "source": [
        "from langchain.chains import SimpleSequentialChain"
      ]
    },
    {
      "cell_type": "code",
      "execution_count": 28,
      "id": "2f31aa8a",
      "metadata": {
        "id": "2f31aa8a"
      },
      "outputs": [],
      "source": [
        "llm = ChatOpenAI(temperature=0.9)\n",
        "\n",
        "# Step 1: Generate an innovative idea for the given product\n",
        "first_prompt = ChatPromptTemplate.from_template(\n",
        "    \"Come up with a creative and unique marketing campaign idea for each these products: {products}\"\n",
        "\n",
        ")\n",
        "\n",
        "# Chain 1\n",
        "chain_one = LLMChain(llm=llm, prompt=first_prompt)"
      ]
    },
    {
      "cell_type": "code",
      "execution_count": 29,
      "id": "3f5d5b76",
      "metadata": {
        "id": "3f5d5b76"
      },
      "outputs": [],
      "source": [
        "# Step 2: Write a marketing description based on the generated idea\n",
        "second_prompt = ChatPromptTemplate.from_template(\n",
        "    \"Write a compelling marketing description for these ideas: {input}\"\n",
        ")\n",
        "# chain 2\n",
        "chain_two = LLMChain(llm=llm, prompt=second_prompt)"
      ]
    },
    {
      "cell_type": "code",
      "execution_count": 30,
      "id": "6c1eb2c4",
      "metadata": {
        "id": "6c1eb2c4"
      },
      "outputs": [],
      "source": [
        "overall_simple_chain = SimpleSequentialChain(chains=[chain_one, chain_two],\n",
        "                                             verbose=True\n",
        "                                            )"
      ]
    },
    {
      "cell_type": "markdown",
      "source": [
        "## **If you want a marketing description for more than one proudect**"
      ],
      "metadata": {
        "id": "nU835JZd1AWi"
      },
      "id": "nU835JZd1AWi"
    },
    {
      "cell_type": "code",
      "execution_count": 31,
      "id": "78458efe",
      "metadata": {
        "colab": {
          "base_uri": "https://localhost:8080/",
          "height": 576
        },
        "id": "78458efe",
        "outputId": "bb595ea2-b649-4648-8a63-d83effe77a5a"
      },
      "outputs": [
        {
          "output_type": "stream",
          "name": "stdout",
          "text": [
            "\n",
            "\n",
            "\u001b[1m> Entering new SimpleSequentialChain chain...\u001b[0m\n",
            "\u001b[36;1m\u001b[1;3m1. Noise-cancelling headphones:\n",
            "Campaign idea: \"Escape the Noise\"\n",
            "Create an interactive social media campaign where users can upload videos of themselves in noisy environments (like a crowded city street or a busy office) with the hashtag #EscapeTheNoise. Encourage them to share how noise-cancelling headphones have improved their focus, relaxation, or overall well-being. Offer a giveaway of noise-cancelling headphones to random participants to generate excitement and engagement.\n",
            "\n",
            "2. Smart water bottle:\n",
            "Campaign idea: \"Hydrate Smarter, Not Harder\"\n",
            "Partner with fitness influencers and wellness bloggers to create a series of \"hydration challenges\" where participants are encouraged to increase their water intake using the smart water bottle. Offer a discount code for the smart water bottle to participants who share their progress on social media using the hashtag #HydrateSmarter. Create a leaderboard to track participants' progress and offer a grand prize to the person who hydrates the most over a set period.\n",
            "\n",
            "3. Wireless charger:\n",
            "Campaign idea: \"Cut the Cord\"\n",
            "Create a guerrilla marketing campaign where actors are seen pretending to be stuck to walls or outlets by tangled cords, highlighting the inconvenience of traditional chargers. Post videos of these \"stuck\" individuals on social media with the tagline \"Cut the Cord with Wireless Charging.\" Offer a limited-time promotion where customers can trade in their old chargers for a discount on a new wireless charger, emphasizing the convenience and freedom of a cord-free lifestyle.\u001b[0m\n",
            "\u001b[33;1m\u001b[1;3m1. Are you tired of being constantly surrounded by noise? Escape the chaos with our noise-cancelling headphones! Join our #EscapeTheNoise campaign and share how these headphones have transformed your daily life. Experience a new level of focus, relaxation, and well-being with the power of noise cancellation. Plus, you could win a pair of these amazing headphones just by participating!\n",
            "\n",
            "2. Hydration is key to a healthy lifestyle, and our smart water bottle makes it easier than ever to stay hydrated. Join our #HydrateSmarter campaign and take on hydration challenges with fitness influencers and wellness experts. Share your progress on social media and track your success on our leaderboard. Get your hands on this game-changing water bottle at a discounted price and hydrate smarter, not harder!\n",
            "\n",
            "3. Say goodbye to tangled cords and hello to a life of convenience with our wireless charger. Cut the cord and experience the freedom of wireless charging. Join our guerrilla marketing campaign and witness the struggle of those stuck to walls by cords. Trade in your old chargers for a discount on a new wireless charger and enjoy the ease of a cord-free lifestyle. Don't miss out on this limited-time promotion!\u001b[0m\n",
            "\n",
            "\u001b[1m> Finished chain.\u001b[0m\n"
          ]
        },
        {
          "output_type": "execute_result",
          "data": {
            "text/plain": [
              "\"1. Are you tired of being constantly surrounded by noise? Escape the chaos with our noise-cancelling headphones! Join our #EscapeTheNoise campaign and share how these headphones have transformed your daily life. Experience a new level of focus, relaxation, and well-being with the power of noise cancellation. Plus, you could win a pair of these amazing headphones just by participating!\\n\\n2. Hydration is key to a healthy lifestyle, and our smart water bottle makes it easier than ever to stay hydrated. Join our #HydrateSmarter campaign and take on hydration challenges with fitness influencers and wellness experts. Share your progress on social media and track your success on our leaderboard. Get your hands on this game-changing water bottle at a discounted price and hydrate smarter, not harder!\\n\\n3. Say goodbye to tangled cords and hello to a life of convenience with our wireless charger. Cut the cord and experience the freedom of wireless charging. Join our guerrilla marketing campaign and witness the struggle of those stuck to walls by cords. Trade in your old chargers for a discount on a new wireless charger and enjoy the ease of a cord-free lifestyle. Don't miss out on this limited-time promotion!\""
            ],
            "application/vnd.google.colaboratory.intrinsic+json": {
              "type": "string"
            }
          },
          "metadata": {},
          "execution_count": 31
        }
      ],
      "source": [
        "products = [\"Noise-cancelling headphones\", \"Smart water bottle\", \"Wireless charger\"]\n",
        "overall_simple_chain.run(products)"
      ]
    },
    {
      "cell_type": "markdown",
      "id": "0dd59bda-9d02-44e7-b3d6-2bec61b99d8f",
      "metadata": {
        "id": "0dd59bda-9d02-44e7-b3d6-2bec61b99d8f"
      },
      "source": [
        "**Repeat the above twice for different products**"
      ]
    },
    {
      "cell_type": "markdown",
      "id": "7b5ce18c",
      "metadata": {
        "id": "7b5ce18c"
      },
      "source": [
        "# **SequentialChain**"
      ]
    },
    {
      "cell_type": "markdown",
      "source": [
        "#**🏷️ Smart Product Campaign Generator for the Saudi Market**\n",
        "A multi-step AI-powered system that generates localized marketing campaigns for smart products.  \n",
        "It covers campaign ideation, product bundling, unified promotional messaging, and platform-specific recommendations tailored for the Saudi audience — all in both English and Arabic.\n"
      ],
      "metadata": {
        "id": "rrFi-U1kIoCB"
      },
      "id": "rrFi-U1kIoCB"
    },
    {
      "cell_type": "markdown",
      "source": [
        "### 📌 Note: Working with `SequentialChain`\n",
        "\n",
        "Since we're using `SequentialChain`, we need to explicitly define the flow of data between the chains.\n",
        "\n",
        "Here's what you must specify:\n",
        "\n",
        "- **`input_variables`** for each prompt: These define the expected inputs to the prompt templates.\n",
        "\n",
        "- **`input_key`** for each `LLMChain`: Indicates where the input comes from (either user input or a previous chain's output).\n",
        "- **`output_key`** for each `LLMChain`: This is the key under which the chain's output will be stored, and it will be passed to the next chain if needed.\n",
        "\n",
        "The data flows from one chain to the next using these keys, enabling multi-step logic with full control.\n"
      ],
      "metadata": {
        "id": "vHQd_NcD4S8h"
      },
      "id": "vHQd_NcD4S8h"
    },
    {
      "cell_type": "code",
      "execution_count": 49,
      "id": "4c129ef6",
      "metadata": {
        "id": "4c129ef6"
      },
      "outputs": [],
      "source": [
        "from langchain.chains import SequentialChain"
      ]
    },
    {
      "cell_type": "code",
      "execution_count": 50,
      "id": "016187ac",
      "metadata": {
        "id": "016187ac"
      },
      "outputs": [],
      "source": [
        "# Initialize LLM\n",
        "llm = ChatOpenAI(temperature=0.9)\n",
        "\n",
        "# Step 1: Generate a marketing campaign idea\n",
        "step1_prompt = ChatPromptTemplate.from_template(\n",
        "    \"Come up with a creative and unique marketing campaign idea for this product: {product}\"\n",
        ")\n",
        "chain_one = LLMChain(\n",
        "    llm=llm,\n",
        "    prompt=step1_prompt,\n",
        "    output_key=\"campaign_idea\"\n",
        ")"
      ]
    },
    {
      "cell_type": "code",
      "execution_count": 51,
      "id": "0fb0730e",
      "metadata": {
        "id": "0fb0730e"
      },
      "outputs": [],
      "source": [
        "# Step 2: Suggest complementary products\n",
        "step2_prompt = ChatPromptTemplate.from_template(\n",
        "    \"Based on this campaign idea: {campaign_idea}, suggest 2-3 complementary products (accessories, add-ons, or related tech items).\"\n",
        ")\n",
        "chain_two = LLMChain(\n",
        "    llm=llm,\n",
        "    prompt=step2_prompt,\n",
        "    output_key=\"related_products\"\n",
        ")"
      ]
    },
    {
      "cell_type": "code",
      "source": [
        "# Step 3: Create a unified marketing message for the product line\n",
        "step3_prompt = ChatPromptTemplate.from_template(\n",
        "    \"Write a unified and engaging promotional message that introduces the main product and the following complementary products: {related_products}.\"\n",
        ")\n",
        "chain_three = LLMChain(\n",
        "    llm=llm,\n",
        "    prompt=step3_prompt,\n",
        "    output_key=\"marketing_message\"\n",
        ")"
      ],
      "metadata": {
        "id": "keOHa3bd8Px7"
      },
      "id": "keOHa3bd8Px7",
      "execution_count": 52,
      "outputs": []
    },
    {
      "cell_type": "code",
      "source": [
        "# Step 4: Suggest marketing channels in saudi arabia\n",
        "step4_prompt = ChatPromptTemplate.from_template(\n",
        "    \"Based on this marketing message: {marketing_message}, suggest 3 suitable marketing channels in Saudi Arabia for this campaign.\"\n",
        "\n",
        ")\n",
        "chain_four = LLMChain(\n",
        "    llm=llm,\n",
        "    prompt=step4_prompt,\n",
        "    output_key=\"marketing_channel\"\n",
        ")"
      ],
      "metadata": {
        "id": "Rv6D5XXn-r8j"
      },
      "id": "Rv6D5XXn-r8j",
      "execution_count": 53,
      "outputs": []
    },
    {
      "cell_type": "code",
      "source": [
        "# Step 5: Translate the message to Arabic\n",
        "step5_prompt = ChatPromptTemplate.from_template(\n",
        "    \"Translate the following marketing message into Arabic:\\n\\n{marketing_message}\"\n",
        "\n",
        ")\n",
        "chain_five = LLMChain(\n",
        "    llm=llm,\n",
        "    prompt=step5_prompt,\n",
        "    output_key=\"arabic_translation_message\"\n",
        ")"
      ],
      "metadata": {
        "id": "LUVg46ji8WX6"
      },
      "id": "LUVg46ji8WX6",
      "execution_count": 54,
      "outputs": []
    },
    {
      "cell_type": "code",
      "source": [
        "# Step 6: Translate the channel to Arabic\n",
        "step6_prompt = ChatPromptTemplate.from_template(\n",
        "    \"Translate the following list of marketing channels into Arabic:\\n\\n{marketing_channel}\"\n",
        "\n",
        "\n",
        ")\n",
        "chain_six = LLMChain(\n",
        "    llm=llm,\n",
        "    prompt=step6_prompt,\n",
        "    output_key=\"arabic_translation_channels\"\n",
        ")"
      ],
      "metadata": {
        "id": "maJ3jdGKDHvQ"
      },
      "id": "maJ3jdGKDHvQ",
      "execution_count": 58,
      "outputs": []
    },
    {
      "cell_type": "code",
      "source": [
        "# Build the full SequentialChain\n",
        "overall_chain = SequentialChain(\n",
        "    chains=[chain_one, chain_two, chain_three, chain_four,chain_five,chain_six],\n",
        "    input_variables=[\"product\"],\n",
        "    output_variables=[\"arabic_translation_message\", \"arabic_translation_channels\"],\n",
        "    verbose=True\n",
        ")"
      ],
      "metadata": {
        "id": "PwOtQO7I8dqr"
      },
      "id": "PwOtQO7I8dqr",
      "execution_count": 61,
      "outputs": []
    },
    {
      "cell_type": "code",
      "source": [
        "# Example run\n",
        "product = \"Smart Home Aroma Diffuser\"\n",
        "result = overall_chain.invoke({\"product\": product})\n",
        "print(\"📢 الرسالة التسويقية المترجمة:\\n\")\n",
        "print(result[\"arabic_translation_message\"])\n",
        "\n",
        "print(\"\\n📡 القنوات التسويقية المترجمة:\\n\")\n",
        "print(result[\"arabic_translation_channels\"])"
      ],
      "metadata": {
        "colab": {
          "base_uri": "https://localhost:8080/"
        },
        "id": "xe7zOxnY8gYe",
        "outputId": "0e0c1c28-a536-43c9-e226-b80b62b6df25"
      },
      "id": "xe7zOxnY8gYe",
      "execution_count": 62,
      "outputs": [
        {
          "output_type": "stream",
          "name": "stdout",
          "text": [
            "\n",
            "\n",
            "\u001b[1m> Entering new SequentialChain chain...\u001b[0m\n",
            "\n",
            "\u001b[1m> Finished chain.\u001b[0m\n",
            "📢 الرسالة التسويقية المترجمة:\n",
            "\n",
            "قم بتحويل منزلك إلى ملاذ للراحة والتجديد مع جهاز توزيع العطور الذكي للمنزل الخاص بنا. يوفر هذا الجهاز الابتكاري مزيجًا مثاليًا من التكنولوجيا والعناية بالصحة ، مما يتيح لك خلق جوًا مريحًا بلمسة واحدة فقط.\n",
            "\n",
            "امزج جهاز توزيع العطور الخاص بك مع مجموعة بداية الزيوت الأساسية لدينا ، التي تحتوي على مجموعة مختارة من الزيوت الأساسية الفاخرة لتعزيز تجربة العطر العلاجي الخاصة بك. من اللافندر المهدئ إلى اليوسفي المنشط ، هناك عطر لكل مزاج ومناسبة.\n",
            "\n",
            "قم برفع منزلك الذكي إلى المستوى التالي مع جهاز الذكي للمنزل الخاص بنا ، الذي يدمج بسلاسة جهاز توزيع العطر الخاص بك مع أجهزة ذكية أخرى لسهولة وتحكم فائقين. بلمسة واحدة على هاتفك الذكي ، يمكنك تحويل مساحتك المعيشة إلى واحة شخصية للهدوء.\n",
            "\n",
            "بالنسبة لأولئك الذين يحبون لمعان الشموع الدافئة ، فإن مجموعة الشموع العطرية لدينا هي الرفيق المثالي لجهاز توزيع العطور الخاص بك. معبأة بروائح فاخرة ، تضيف هذه الشموع طبقة إضافية من المتعة الحسية لجو منزلك.\n",
            "\n",
            "ارتق ببيئتك المنزلية وروتينك الصحي مع تشكيلتنا من المنتجات المكملة ، المصممة لتعزيز تجربتك مع المنزل الذكي. تقبل قوة الرائحة والتكنولوجيا مع جهاز توزيع العطور الذكي للمنزل الخاص بنا وشركاءه المثاليين.\n",
            "\n",
            "📡 القنوات التسويقية المترجمة:\n",
            "\n",
            "1. الإعلان على وسائل التواصل الاجتماعي: استخدم منصات مثل فيسبوك وإنستغرام لاستهداف جمهور مهتم بالعافية وتحسين المنزل. قم بإنشاء إعلانات بصرية جذابة تعرض جهاز توزيع العطور الذكي للمنزل ومنتجاته المكملة لجذب العملاء المحتملين.\n",
            "\n",
            "2. شراكات مع المؤثرين: تعاون مع مؤثرين مشهورين في المملكة العربية السعودية لديهم قاعدة جماهيرية قوية ويشتهرون بالترويج لمنتجات العافية وديكور المنزل. اجعلهم يعرضون جهاز توزيع العطور الذكي للمنزل وفوائده لجمهورهم من خلال المشاركات والقصص المدفوعة.\n",
            "\n",
            "3. مجلات المنزل ونمط الحياة: إعلان في مجلات المنزل ونمط الحياة المحلية في المملكة العربية السعودية للوصول إلى جمهور مستهدف يهتم بتعزيز أماكن إقامتهم. قم بعرض جهاز توزيع العطور الذكي للمنزل ومنتجاته المكملة في إعلانات بصرية جذابة مع وصف مفصل لفوائدها وكيف يمكنها إضافة قيمة لملاذ منزلي.\n"
          ]
        }
      ]
    },
    {
      "cell_type": "markdown",
      "source": [
        "# 🤖 Intelligent Multilingual Review Response Generator\n",
        "A smart pipeline that translates, summarizes, analyzes sentiment, and responds to product reviews in the user's preferred language.\n"
      ],
      "metadata": {
        "id": "WRPiHhLqKqQm"
      },
      "id": "WRPiHhLqKqQm"
    },
    {
      "cell_type": "code",
      "source": [
        "# Step 1: Translate review (only if needed)\n",
        "translate_review_prompt = ChatPromptTemplate.from_template(\n",
        "    \"Only translate to English if the review is not already in English. Otherwise, just repeat it as is:\\n\\n{review}\"\n",
        ")\n",
        "translate_review_chain = LLMChain(\n",
        "    llm=llm,\n",
        "    prompt=translate_review_prompt,\n",
        "    output_key=\"translated_review\"\n",
        ")"
      ],
      "metadata": {
        "id": "ES7qhyyiKojM"
      },
      "id": "ES7qhyyiKojM",
      "execution_count": 66,
      "outputs": []
    },
    {
      "cell_type": "code",
      "source": [
        "# Step 2: Summarize the translated review\n",
        "summarize_review_prompt = ChatPromptTemplate.from_template(\n",
        "    \"Summarize the following review:\\n\\n{translated_review}\"\n",
        ")\n",
        "summarize_review_chain = LLMChain(\n",
        "    llm=llm,\n",
        "    prompt=summarize_review_prompt,\n",
        "    output_key=\"review_summary\"\n",
        ")"
      ],
      "metadata": {
        "id": "jPKby6q1OmN9"
      },
      "id": "jPKby6q1OmN9",
      "execution_count": 67,
      "outputs": []
    },
    {
      "cell_type": "code",
      "source": [
        "# Step 3: Sentiment Analysis\n",
        "sentiment_prompt = ChatPromptTemplate.from_template(\n",
        "    \"Determine the sentiment of the following review (Positive, Neutral, or Negative):\\n\\n{translated_review}\"\n",
        ")\n",
        "sentiment_chain = LLMChain(\n",
        "    llm=llm,\n",
        "    prompt=sentiment_prompt,\n",
        "    output_key=\"sentiment\"\n",
        ")"
      ],
      "metadata": {
        "id": "QvoZugI8PC3T"
      },
      "id": "QvoZugI8PC3T",
      "execution_count": 68,
      "outputs": []
    },
    {
      "cell_type": "code",
      "source": [
        "# Step 4: Translate summary to user-selected language\n",
        "selected_language_prompt = ChatPromptTemplate.from_template(\n",
        "    \"Translate the following review summary into {user_language}:\\n\\n{review_summary}\"\n",
        ")\n",
        "selected_language_chain = LLMChain(\n",
        "    llm=llm,\n",
        "    prompt=selected_language_prompt,\n",
        "    output_key=\"translated_summary\"\n",
        ")"
      ],
      "metadata": {
        "id": "fMF0e4k0RX-o"
      },
      "id": "fMF0e4k0RX-o",
      "execution_count": 69,
      "outputs": []
    },
    {
      "cell_type": "code",
      "source": [
        "# Step 5: Generate follow-up message based on translated summary and sentiment\n",
        "followup_reply_prompt = ChatPromptTemplate.from_template(\n",
        "    \"Write a follow-up message to the reviewer in {user_language}, based on this summary:\\n\\n{translated_summary}. The sentiment of the review is: {sentiment}\"\n",
        ")\n",
        "followup_reply_chain = LLMChain(\n",
        "    llm=llm,\n",
        "    prompt=followup_reply_prompt,\n",
        "    output_key=\"response_to_reviewer\"\n",
        ")"
      ],
      "metadata": {
        "id": "PhrMDwquVBvR"
      },
      "id": "PhrMDwquVBvR",
      "execution_count": 70,
      "outputs": []
    },
    {
      "cell_type": "code",
      "source": [
        "# Build SequentialChain\n",
        "overall_chain = SequentialChain(\n",
        "    chains=[\n",
        "        translate_review_chain,\n",
        "        summarize_review_chain,\n",
        "        sentiment_chain,\n",
        "        selected_language_chain,\n",
        "        followup_reply_chain\n",
        "    ],\n",
        "    input_variables=[\"review\", \"user_language\"],\n",
        "    output_variables=[\n",
        "        \"translated_review\",\n",
        "        \"review_summary\",\n",
        "        \"sentiment\",\n",
        "        \"translated_summary\",\n",
        "        \"response_to_reviewer\"\n",
        "    ],\n",
        "    verbose=True\n",
        ")"
      ],
      "metadata": {
        "id": "WZ25TnobVIlR"
      },
      "id": "WZ25TnobVIlR",
      "execution_count": 71,
      "outputs": []
    },
    {
      "cell_type": "code",
      "source": [
        "# Example input\n",
        "review = df[\"Review\"][5]\n",
        "user_language = input(\"🔤 Enter your preferred language for the response (e.g., Arabic, Spanish, French): \")\n",
        "\n",
        "# Run the chain\n",
        "result = overall_chain.invoke({\n",
        "    \"review\": review,\n",
        "    \"user_language\": user_language\n",
        "})\n",
        "\n",
        "# Display the outputs\n",
        "print(\"\\n📄 Translated Review (if needed):\\n\", result[\"translated_review\"])\n",
        "print(\"\\n📝 Summary:\\n\", result[\"review_summary\"])\n",
        "print(\"\\n📊 Sentiment Analysis:\\n\", result[\"sentiment\"])\n",
        "print(\"\\n🌍 Translated Summary:\\n\", result[\"translated_summary\"])\n",
        "print(\"\\n✉️ Follow-up Message:\\n\", result[\"response_to_reviewer\"])"
      ],
      "metadata": {
        "colab": {
          "base_uri": "https://localhost:8080/"
        },
        "id": "Q52Yf0rZVQ0J",
        "outputId": "c69583c2-88d1-4bf2-9c26-a44dd787e12d"
      },
      "id": "Q52Yf0rZVQ0J",
      "execution_count": 72,
      "outputs": [
        {
          "output_type": "stream",
          "name": "stdout",
          "text": [
            "🔤 Enter your preferred language for the response (e.g., Arabic, Spanish, French): Arabic\n",
            "\n",
            "\n",
            "\u001b[1m> Entering new SequentialChain chain...\u001b[0m\n",
            "\n",
            "\u001b[1m> Finished chain.\u001b[0m\n",
            "\n",
            "📄 Translated Review (if needed):\n",
            " I find the taste poor. The foam doesn't hold, it's weird. I buy the same ones in stores and the taste is much better...\n",
            "Old batch or counterfeit!?\n",
            "\n",
            "📝 Summary:\n",
            " The reviewer is disappointed with the taste of the product and notes that the foam does not hold well. They suspect that the product may be either an old batch or a counterfeit version, as they have purchased the same product in stores with better taste.\n",
            "\n",
            "📊 Sentiment Analysis:\n",
            " Negative\n",
            "\n",
            "🌍 Translated Summary:\n",
            " يشعر المراجع بخيبة أمل من طعم المنتج ويلاحظ عدم تماسك الرغوة بشكل جيد. يشتبه بأن المنتج قد يكون دفعة قديمة أو نسخة مقلدة، حيث اشترى نفس المنتج في المتاجر بطعم أفضل.\n",
            "\n",
            "✉️ Follow-up Message:\n",
            " شكرًا على مشاركتك لتجربتك مع المنتج. نأسف لسماع أنك لم تكن راضيًا عن الطعم وجودة الرغوة. سنقوم بالتحقق من جودة المنتج وضمان أن يتم تحسينه في المستقبل. نحن نهتم برأيك ونقدر ملاحظاتك.\n"
          ]
        }
      ]
    },
    {
      "cell_type": "markdown",
      "id": "3041ea4c",
      "metadata": {
        "id": "3041ea4c"
      },
      "source": [
        "## Router Chain"
      ]
    },
    {
      "cell_type": "code",
      "execution_count": 73,
      "id": "ade83f4f",
      "metadata": {
        "id": "ade83f4f"
      },
      "outputs": [],
      "source": [
        "physics_template = \"\"\"You are a very smart physics professor. \\\n",
        "You are great at answering questions about physics in a concise\\\n",
        "and easy to understand manner. \\\n",
        "When you don't know the answer to a question you admit\\\n",
        "that you don't know.\n",
        "\n",
        "Here is a question:\n",
        "{input}\"\"\"\n",
        "\n",
        "\n",
        "math_template = \"\"\"You are a very good mathematician. \\\n",
        "You are great at answering math questions. \\\n",
        "You are so good because you are able to break down \\\n",
        "hard problems into their component parts,\n",
        "answer the component parts, and then put them together\\\n",
        "to answer the broader question.\n",
        "\n",
        "Here is a question:\n",
        "{input}\"\"\"\n",
        "\n",
        "history_template = \"\"\"You are a very good historian. \\\n",
        "You have an excellent knowledge of and understanding of people,\\\n",
        "events and contexts from a range of historical periods. \\\n",
        "You have the ability to think, reflect, debate, discuss and \\\n",
        "evaluate the past. You have a respect for historical evidence\\\n",
        "and the ability to make use of it to support your explanations \\\n",
        "and judgements.\n",
        "\n",
        "Here is a question:\n",
        "{input}\"\"\"\n",
        "\n",
        "\n",
        "computerscience_template = \"\"\" You are a successful computer scientist.\\\n",
        "You have a passion for creativity, collaboration,\\\n",
        "forward-thinking, confidence, strong problem-solving capabilities,\\\n",
        "understanding of theories and algorithms, and excellent communication \\\n",
        "skills. You are great at answering coding questions. \\\n",
        "You are so good because you know how to solve a problem by \\\n",
        "describing the solution in imperative steps \\\n",
        "that a machine can easily interpret and you know how to \\\n",
        "choose a solution that has a good balance between \\\n",
        "time complexity and space complexity.\n",
        "\n",
        "Here is a question:\n",
        "{input}\"\"\"\n",
        "\n",
        "biology_template = \"\"\"You are an excellent biologist. \\\n",
        "You have a deep understanding of living organisms, \\\n",
        "from the molecular and cellular level to entire ecosystems. \\\n",
        "You are skilled at observing patterns in nature, analyzing biological data, \\\n",
        "and explaining complex processes like evolution, genetics, physiology, and ecology. \\\n",
        "You can clearly communicate how life functions and adapts, \\\n",
        "and you make connections between different biological concepts \\\n",
        "to answer challenging questions.\n",
        "\n",
        "Here is a question:\n",
        "{input}\"\"\""
      ]
    },
    {
      "cell_type": "code",
      "execution_count": 74,
      "id": "5f590e9f",
      "metadata": {
        "id": "5f590e9f"
      },
      "outputs": [],
      "source": [
        "prompt_infos = [\n",
        "    {\n",
        "        \"name\": \"physics\",\n",
        "        \"description\": \"Good for answering questions about physics\",\n",
        "        \"prompt_template\": physics_template\n",
        "    },\n",
        "    {\n",
        "        \"name\": \"math\",\n",
        "        \"description\": \"Good for answering math questions\",\n",
        "        \"prompt_template\": math_template\n",
        "    },\n",
        "    {\n",
        "        \"name\": \"History\",\n",
        "        \"description\": \"Good for answering history questions\",\n",
        "        \"prompt_template\": history_template\n",
        "    },\n",
        "    {\n",
        "        \"name\": \"computer science\",\n",
        "        \"description\": \"Good for answering computer science questions\",\n",
        "        \"prompt_template\": computerscience_template\n",
        "    },\n",
        "    {\n",
        "        \"name\": \"biology\",\n",
        "        \"description\": \"Good for answering biology questions\",\n",
        "        \"prompt_template\": biology_template\n",
        "    }\n",
        "]"
      ]
    },
    {
      "cell_type": "code",
      "execution_count": 75,
      "id": "31b06fc8",
      "metadata": {
        "id": "31b06fc8"
      },
      "outputs": [],
      "source": [
        "from langchain.chains.router import MultiPromptChain\n",
        "from langchain.chains.router.llm_router import LLMRouterChain,RouterOutputParser\n",
        "from langchain.prompts import PromptTemplate"
      ]
    },
    {
      "cell_type": "code",
      "execution_count": 76,
      "id": "f3f50bcc",
      "metadata": {
        "id": "f3f50bcc"
      },
      "outputs": [],
      "source": [
        "llm = ChatOpenAI(temperature=0)"
      ]
    },
    {
      "cell_type": "code",
      "execution_count": 77,
      "id": "8eefec24",
      "metadata": {
        "id": "8eefec24"
      },
      "outputs": [],
      "source": [
        "destination_chains = {}\n",
        "for p_info in prompt_infos:\n",
        "    name = p_info[\"name\"]\n",
        "    prompt_template = p_info[\"prompt_template\"]\n",
        "    prompt = ChatPromptTemplate.from_template(template=prompt_template)\n",
        "    chain = LLMChain(llm=llm, prompt=prompt)\n",
        "    destination_chains[name] = chain\n",
        "\n",
        "destinations = [f\"{p['name']}: {p['description']}\" for p in prompt_infos]\n",
        "destinations_str = \"\\n\".join(destinations)"
      ]
    },
    {
      "cell_type": "code",
      "execution_count": 78,
      "id": "9f98018a",
      "metadata": {
        "id": "9f98018a"
      },
      "outputs": [],
      "source": [
        "default_prompt = ChatPromptTemplate.from_template(\"{input}\")\n",
        "default_chain = LLMChain(llm=llm, prompt=default_prompt)"
      ]
    },
    {
      "cell_type": "code",
      "execution_count": 79,
      "id": "11b2e2ba",
      "metadata": {
        "id": "11b2e2ba"
      },
      "outputs": [],
      "source": [
        "MULTI_PROMPT_ROUTER_TEMPLATE = \"\"\"Given a raw text input to a \\\n",
        "language model select the model prompt best suited for the input. \\\n",
        "You will be given the names of the available prompts and a \\\n",
        "description of what the prompt is best suited for. \\\n",
        "You may also revise the original input if you think that revising\\\n",
        "it will ultimately lead to a better response from the language model.\n",
        "\n",
        "<< FORMATTING >>\n",
        "Return a markdown code snippet with a JSON object formatted to look like:\n",
        "```json\n",
        "{{{{\n",
        "    \"destination\": string \\ name of the prompt to use or \"DEFAULT\"\n",
        "    \"next_inputs\": string \\ a potentially modified version of the original input\n",
        "}}}}\n",
        "```\n",
        "\n",
        "REMEMBER: \"destination\" MUST be one of the candidate prompt \\\n",
        "names specified below OR it can be \"DEFAULT\" if the input is not\\\n",
        "well suited for any of the candidate prompts.\n",
        "REMEMBER: \"next_inputs\" can just be the original input \\\n",
        "if you don't think any modifications are needed.\n",
        "\n",
        "<< CANDIDATE PROMPTS >>\n",
        "{destinations}\n",
        "\n",
        "<< INPUT >>\n",
        "{{input}}\n",
        "\n",
        "<< OUTPUT (remember to include the ```json)>>\"\"\""
      ]
    },
    {
      "cell_type": "code",
      "execution_count": 80,
      "id": "1387109d",
      "metadata": {
        "id": "1387109d"
      },
      "outputs": [],
      "source": [
        "router_template = MULTI_PROMPT_ROUTER_TEMPLATE.format(\n",
        "    destinations=destinations_str\n",
        ")\n",
        "router_prompt = PromptTemplate(\n",
        "    template=router_template,\n",
        "    input_variables=[\"input\"],\n",
        "    output_parser=RouterOutputParser(),\n",
        ")\n",
        "\n",
        "router_chain = LLMRouterChain.from_llm(llm, router_prompt)"
      ]
    },
    {
      "cell_type": "code",
      "execution_count": 81,
      "id": "2fb7d560",
      "metadata": {
        "colab": {
          "base_uri": "https://localhost:8080/"
        },
        "id": "2fb7d560",
        "outputId": "d19f3583-77b5-4ba0-e272-666fc0f21a54"
      },
      "outputs": [
        {
          "output_type": "stream",
          "name": "stderr",
          "text": [
            "<ipython-input-81-ae9cc652db54>:1: LangChainDeprecationWarning: Please see migration guide here for recommended implementation: https://python.langchain.com/docs/versions/migrating_chains/multi_prompt_chain/\n",
            "  chain = MultiPromptChain(router_chain=router_chain,\n"
          ]
        }
      ],
      "source": [
        "chain = MultiPromptChain(router_chain=router_chain,\n",
        "                         destination_chains=destination_chains,\n",
        "                         default_chain=default_chain, verbose=True\n",
        "                        )"
      ]
    },
    {
      "cell_type": "code",
      "execution_count": 82,
      "id": "d86b2131",
      "metadata": {
        "colab": {
          "base_uri": "https://localhost:8080/",
          "height": 226
        },
        "id": "d86b2131",
        "outputId": "0f85f261-5665-4726-d801-2f7fd1b24880"
      },
      "outputs": [
        {
          "output_type": "stream",
          "name": "stdout",
          "text": [
            "\n",
            "\n",
            "\u001b[1m> Entering new MultiPromptChain chain...\u001b[0m\n",
            "physics: {'input': 'What is black body radiation?'}\n",
            "\u001b[1m> Finished chain.\u001b[0m\n"
          ]
        },
        {
          "output_type": "execute_result",
          "data": {
            "text/plain": [
              "\"Black body radiation refers to the electromagnetic radiation emitted by a perfect black body, which is an idealized physical body that absorbs all incident electromagnetic radiation. The radiation emitted by a black body depends only on its temperature and follows a specific distribution known as Planck's law. This radiation is characterized by a continuous spectrum of wavelengths and intensities, with the peak intensity shifting to shorter wavelengths as the temperature of the black body increases. Black body radiation plays a key role in understanding concepts such as thermal radiation and the quantization of energy in quantum mechanics.\""
            ],
            "application/vnd.google.colaboratory.intrinsic+json": {
              "type": "string"
            }
          },
          "metadata": {},
          "execution_count": 82
        }
      ],
      "source": [
        "chain.run(\"What is black body radiation?\")"
      ]
    },
    {
      "cell_type": "code",
      "execution_count": 83,
      "id": "3b717379",
      "metadata": {
        "colab": {
          "base_uri": "https://localhost:8080/",
          "height": 122
        },
        "id": "3b717379",
        "outputId": "7c7c833d-fc2c-4ea6-9d40-e65eb6a5db8d"
      },
      "outputs": [
        {
          "output_type": "stream",
          "name": "stdout",
          "text": [
            "\n",
            "\n",
            "\u001b[1m> Entering new MultiPromptChain chain...\u001b[0m\n",
            "math: {'input': 'what is 2 + 2'}\n",
            "\u001b[1m> Finished chain.\u001b[0m\n"
          ]
        },
        {
          "output_type": "execute_result",
          "data": {
            "text/plain": [
              "'The answer to 2 + 2 is 4.'"
            ],
            "application/vnd.google.colaboratory.intrinsic+json": {
              "type": "string"
            }
          },
          "metadata": {},
          "execution_count": 83
        }
      ],
      "source": [
        "chain.run(\"what is 2 + 2\")"
      ]
    },
    {
      "cell_type": "code",
      "execution_count": 84,
      "id": "29e5be01",
      "metadata": {
        "colab": {
          "base_uri": "https://localhost:8080/",
          "height": 278
        },
        "id": "29e5be01",
        "outputId": "9a5660d4-b358-4635-9a6b-faa7d9b5ccaa"
      },
      "outputs": [
        {
          "output_type": "stream",
          "name": "stdout",
          "text": [
            "\n",
            "\n",
            "\u001b[1m> Entering new MultiPromptChain chain...\u001b[0m\n",
            "biology: {'input': 'Why does every cell in our body contain DNA?'}\n",
            "\u001b[1m> Finished chain.\u001b[0m\n"
          ]
        },
        {
          "output_type": "execute_result",
          "data": {
            "text/plain": [
              "\"Every cell in our body contains DNA because DNA is the genetic material that carries the instructions for the development, functioning, and reproduction of all living organisms. DNA contains the information needed to build and maintain an organism, including the proteins that make up our cells and tissues. \\n\\nHaving DNA in every cell ensures that each cell has the necessary genetic information to carry out its specific functions and to replicate itself accurately during cell division. This ensures that the genetic information is passed on to the next generation of cells, maintaining the integrity and continuity of the organism's genetic code.\\n\\nAdditionally, DNA is essential for regulating gene expression, which determines how genes are turned on or off in response to different signals and environmental conditions. This allows cells to adapt and respond to changes in their environment, ensuring the survival and proper functioning of the organism as a whole.\""
            ],
            "application/vnd.google.colaboratory.intrinsic+json": {
              "type": "string"
            }
          },
          "metadata": {},
          "execution_count": 84
        }
      ],
      "source": [
        "chain.run(\"Why does every cell in our body contain DNA?\")"
      ]
    },
    {
      "cell_type": "markdown",
      "id": "09e0c60b-7ae0-453e-9467-142d8dafee6e",
      "metadata": {
        "id": "09e0c60b-7ae0-453e-9467-142d8dafee6e"
      },
      "source": [
        "**Repeat the above at least once for different inputs and chains executions - Be creative!**"
      ]
    },
    {
      "cell_type": "code",
      "source": [
        "chain.run(\"Are black holes real, and what would happen to Earth if it approached one?\")"
      ],
      "metadata": {
        "colab": {
          "base_uri": "https://localhost:8080/",
          "height": 174
        },
        "id": "oDV9sr8MWaEO",
        "outputId": "becb4d7a-0a50-4ed0-8967-df504e772082"
      },
      "id": "oDV9sr8MWaEO",
      "execution_count": 85,
      "outputs": [
        {
          "output_type": "stream",
          "name": "stdout",
          "text": [
            "\n",
            "\n",
            "\u001b[1m> Entering new MultiPromptChain chain...\u001b[0m\n",
            "physics: {'input': 'Are black holes real, and what would happen to Earth if it approached one?'}\n",
            "\u001b[1m> Finished chain.\u001b[0m\n"
          ]
        },
        {
          "output_type": "execute_result",
          "data": {
            "text/plain": [
              "'Yes, black holes are real. They are regions in space where gravity is so strong that nothing, not even light, can escape. If Earth were to approach a black hole, it would be pulled in by the intense gravitational force. The closer Earth gets to the black hole, the stronger the gravitational pull would become, eventually tearing Earth apart in a process known as spaghettification.'"
            ],
            "application/vnd.google.colaboratory.intrinsic+json": {
              "type": "string"
            }
          },
          "metadata": {},
          "execution_count": 85
        }
      ]
    },
    {
      "cell_type": "code",
      "source": [
        "chain.run(\"Recently, scientists announced the de-extinction of the dire wolf, a species of large mammal that went extinct over 12,500 years ago. If scientists were to attempt bringing back a peaceful species of dinosaur, would that be possible?\")"
      ],
      "metadata": {
        "colab": {
          "base_uri": "https://localhost:8080/",
          "height": 299
        },
        "id": "c1fW7RePbbVz",
        "outputId": "2d1b7211-5166-44ae-f0fb-4e9ee41fde07"
      },
      "id": "c1fW7RePbbVz",
      "execution_count": 87,
      "outputs": [
        {
          "output_type": "stream",
          "name": "stdout",
          "text": [
            "\n",
            "\n",
            "\u001b[1m> Entering new MultiPromptChain chain...\u001b[0m\n",
            "biology: {'input': 'Recently, scientists announced the de-extinction of the dire wolf, a species of large mammal that went extinct over 12,500 years ago. If scientists were to attempt bringing back a peaceful species of dinosaur, would that be possible?'}\n",
            "\u001b[1m> Finished chain.\u001b[0m\n"
          ]
        },
        {
          "output_type": "execute_result",
          "data": {
            "text/plain": [
              "'Bringing back a peaceful species of dinosaur through de-extinction would be a much more challenging task compared to the dire wolf. While the technology for de-extinction is still in its early stages, there are several reasons why resurrecting a dinosaur would be particularly difficult.\\n\\nFirstly, the DNA of dinosaurs is much older and more degraded compared to that of more recent extinct species like the dire wolf. This would make it extremely challenging to obtain enough intact genetic material to successfully clone a dinosaur.\\n\\nSecondly, the biological and environmental requirements of dinosaurs are vastly different from those of modern mammals. Dinosaurs lived in a very different world with different atmospheric conditions, food sources, and ecological relationships. Recreating the exact conditions necessary for a dinosaur to thrive would be a monumental task.\\n\\nAdditionally, the ethical implications of resurrecting a dinosaur would be significant. Introducing a species that has been extinct for millions of years into the modern world could have unforeseen consequences for ecosystems and biodiversity.\\n\\nIn conclusion, while the de-extinction of the dire wolf is a promising development, the resurrection of a peaceful species of dinosaur would be a much more complex and challenging endeavor, both scientifically and ethically.'"
            ],
            "application/vnd.google.colaboratory.intrinsic+json": {
              "type": "string"
            }
          },
          "metadata": {},
          "execution_count": 87
        }
      ]
    },
    {
      "cell_type": "code",
      "source": [
        "chain.run(\"Do you think a new mathematical genius could emerge and discover an equation that has never been found before? And if so, could that equation help us advance technology, especially in the field of artificial intelligence?\")"
      ],
      "metadata": {
        "colab": {
          "base_uri": "https://localhost:8080/",
          "height": 298
        },
        "id": "QU_cXdP6ZJLd",
        "outputId": "06afaa43-a1de-4478-cc3f-a1cbd994a0ab"
      },
      "id": "QU_cXdP6ZJLd",
      "execution_count": 86,
      "outputs": [
        {
          "output_type": "stream",
          "name": "stdout",
          "text": [
            "\n",
            "\n",
            "\u001b[1m> Entering new MultiPromptChain chain...\u001b[0m\n",
            "math: {'input': 'Do you think a new mathematical genius could emerge and discover an equation that has never been found before? And if so, could that equation help us advance technology, especially in the field of artificial intelligence?'}\n",
            "\u001b[1m> Finished chain.\u001b[0m\n"
          ]
        },
        {
          "output_type": "execute_result",
          "data": {
            "text/plain": [
              "'As a mathematician, I believe that it is always possible for a new mathematical genius to emerge and discover an equation that has never been found before. Mathematics is a constantly evolving field, and new discoveries are made all the time.\\n\\nIf such an equation were to be discovered, it is certainly possible that it could help advance technology, including in the field of artificial intelligence. Mathematics is the language of science, and many technological advancements are built upon mathematical principles. A new equation could potentially provide insights into solving complex problems in AI, leading to more efficient algorithms, better decision-making processes, and overall improvements in AI capabilities.\\n\\nSo, while it is impossible to predict the future with certainty, the potential for a new mathematical genius to make groundbreaking discoveries that could revolutionize technology, including in the field of artificial intelligence, is always present.'"
            ],
            "application/vnd.google.colaboratory.intrinsic+json": {
              "type": "string"
            }
          },
          "metadata": {},
          "execution_count": 86
        }
      ]
    }
  ],
  "metadata": {
    "kernelspec": {
      "display_name": "Python 3 (ipykernel)",
      "language": "python",
      "name": "python3"
    },
    "language_info": {
      "codemirror_mode": {
        "name": "ipython",
        "version": 3
      },
      "file_extension": ".py",
      "mimetype": "text/x-python",
      "name": "python",
      "nbconvert_exporter": "python",
      "pygments_lexer": "ipython3",
      "version": "3.11.8"
    },
    "colab": {
      "provenance": []
    }
  },
  "nbformat": 4,
  "nbformat_minor": 5
}